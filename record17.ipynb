{
 "cells": [
  {
   "cell_type": "code",
   "execution_count": 22,
   "id": "372250ba-7f2c-47ad-a118-fb936833306a",
   "metadata": {},
   "outputs": [
    {
     "name": "stdin",
     "output_type": "stream",
     "text": [
      "enter the name of book: othello\n",
      "enter the title of book: novel\n",
      "enter author name: shakespear\n",
      "enter price of book: 500\n",
      "enter no.of pages: 120\n"
     ]
    },
    {
     "name": "stdout",
     "output_type": "stream",
     "text": [
      "publisher name: othello\n",
      "title: novel\n",
      "author: shakespear\n",
      "Price: 500\n",
      "Number of Pages: 120\n"
     ]
    }
   ],
   "source": [
    "# Create a class Publisher (name). Derive class Book from Publisher with attributes title and\n",
    "#author.Derive class Python from Book with attributes price and no_of_pages. Write a\n",
    "#program that displays information about a Python book. Use base class constructor invocation and\n",
    "#method overriding.\n",
    "#base\n",
    "class publisher:\n",
    "    def __init__(self,name):\n",
    "        self.name=name\n",
    "\n",
    "    def display(self):\n",
    "        print(\"publisher name:\",self.name)\n",
    "\n",
    "#derived from publisher\n",
    "class book(publisher):\n",
    "    def __init__(self,name,title,author):\n",
    "        super().__init__(name)\n",
    "        self.title=title\n",
    "        self.author=author\n",
    "    def display(self):\n",
    "        super().display()\n",
    "        print(\"title:\",self.title)\n",
    "        print(\"author:\",self.author)\n",
    "\n",
    "#class python from book\n",
    "class python(book):\n",
    "    def __init__(self,name,title,author,price,noofpages):\n",
    "        super().__init__(name,title,author)\n",
    "        self.price=price\n",
    "        self.noofpages=noofpages\n",
    "    \n",
    "    def display(self):\n",
    "        super().display()\n",
    "        print(\"Price:\",self.price)\n",
    "        print(\"Number of Pages:\",self.noofpages)\n",
    "        \n",
    "\n",
    "#main \n",
    "name=input(\"enter the name of book:\")\n",
    "tit=input(\"enter the title of book:\")\n",
    "auth=input(\"enter author name:\")\n",
    "price=input(\"enter price of book:\")\n",
    "pages=input(\"enter no.of pages:\")\n",
    "\n",
    "main=python(name,tit,auth,price,pages)\n",
    "main.display()\n",
    "\n",
    "        "
   ]
  },
  {
   "cell_type": "code",
   "execution_count": null,
   "id": "a4d76c4f-a585-4305-8965-c6b50bede718",
   "metadata": {},
   "outputs": [],
   "source": []
  }
 ],
 "metadata": {
  "kernelspec": {
   "display_name": "Python 3 (ipykernel)",
   "language": "python",
   "name": "python3"
  },
  "language_info": {
   "codemirror_mode": {
    "name": "ipython",
    "version": 3
   },
   "file_extension": ".py",
   "mimetype": "text/x-python",
   "name": "python",
   "nbconvert_exporter": "python",
   "pygments_lexer": "ipython3",
   "version": "3.11.7"
  }
 },
 "nbformat": 4,
 "nbformat_minor": 5
}
