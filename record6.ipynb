{
 "cells": [
  {
   "cell_type": "code",
   "execution_count": 1,
   "id": "205559c2-2812-4936-877c-ea3e2db4f824",
   "metadata": {},
   "outputs": [
    {
     "name": "stdin",
     "output_type": "stream",
     "text": [
      "enter the values: 1,3,5,7,8\n"
     ]
    },
    {
     "name": "stdout",
     "output_type": "stream",
     "text": [
      "third element: 5\n",
      "third element from last: 5\n"
     ]
    }
   ],
   "source": [
    "number=tuple(map(int,input(\"enter the values:\").split(\",\")))\n",
    "a=number[2]\n",
    "b=number[-3]\n",
    "print(\"third element:\",a)\n",
    "print(\"third element from last:\",b)"
   ]
  },
  {
   "cell_type": "code",
   "execution_count": 5,
   "id": "c5ff2a23-0f31-47fa-b6ee-e42afa6775e7",
   "metadata": {},
   "outputs": [
    {
     "name": "stdin",
     "output_type": "stream",
     "text": [
      "enter the values: 1,2,3,4,5\n"
     ]
    },
    {
     "name": "stdout",
     "output_type": "stream",
     "text": [
      "tuple is: (1, 2, 3, 4, 5)\n",
      "avg value= 3.0\n"
     ]
    }
   ],
   "source": [
    "#program to accept a sequence of comma seperated numbers and find its sum\n",
    "number=tuple(map(int,input(\"enter the values:\").split(\",\")))\n",
    "print(\"tuple is:\",number)\n",
    "summ=sum(number)\n",
    "avg=sum(number)/len(number)\n",
    "print(\"avg value=\",avg)"
   ]
  },
  {
   "cell_type": "code",
   "execution_count": null,
   "id": "652c33b9-acee-409f-a483-b947e14cf7bb",
   "metadata": {},
   "outputs": [],
   "source": []
  }
 ],
 "metadata": {
  "kernelspec": {
   "display_name": "Python 3 (ipykernel)",
   "language": "python",
   "name": "python3"
  },
  "language_info": {
   "codemirror_mode": {
    "name": "ipython",
    "version": 3
   },
   "file_extension": ".py",
   "mimetype": "text/x-python",
   "name": "python",
   "nbconvert_exporter": "python",
   "pygments_lexer": "ipython3",
   "version": "3.11.7"
  }
 },
 "nbformat": 4,
 "nbformat_minor": 5
}
