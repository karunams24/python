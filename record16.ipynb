{
 "cells": [
  {
   "cell_type": "code",
   "execution_count": null,
   "id": "7de033ca-3cab-4aef-82a1-6da4c75477ed",
   "metadata": {},
   "outputs": [
    {
     "name": "stdin",
     "output_type": "stream",
     "text": [
      "enter acc num: 1234\n",
      "enter holder name: karuna\n",
      "enter the type(savings/current): savings\n",
      "enter initial balance: 1000\n"
     ]
    },
    {
     "name": "stdout",
     "output_type": "stream",
     "text": [
      "\n",
      "MENU\n",
      "1. Deposit Money\n",
      "2. Withdraw Money\n",
      "3. Display Account Information\n",
      "4. Exit\n"
     ]
    },
    {
     "name": "stdin",
     "output_type": "stream",
     "text": [
      "enter your option(1-4) 3\n"
     ]
    },
    {
     "name": "stdout",
     "output_type": "stream",
     "text": [
      "\n",
      " acc information:\n",
      "\n",
      " account number: 1234\n",
      "\n",
      " name: karuna\n",
      "\n",
      " type of acc: savings\n",
      "\n",
      " balance is: 1000.0\n",
      "\n",
      "MENU\n",
      "1. Deposit Money\n",
      "2. Withdraw Money\n",
      "3. Display Account Information\n",
      "4. Exit\n"
     ]
    },
    {
     "name": "stdin",
     "output_type": "stream",
     "text": [
      "enter your option(1-4) 2\n",
      "enter amount to withdraw: 3000\n"
     ]
    },
    {
     "name": "stdout",
     "output_type": "stream",
     "text": [
      "balance is: 1000.0\n",
      "insufficient balance\n",
      "current bal is: 1000.0\n",
      "\n",
      "MENU\n",
      "1. Deposit Money\n",
      "2. Withdraw Money\n",
      "3. Display Account Information\n",
      "4. Exit\n"
     ]
    }
   ],
   "source": [
    "# Create a Bank account with members account number, name, type of account and balance.\n",
    "#Write constructor and methods to deposit at the bank and withdraw an amount from the bank.\n",
    "class bank:\n",
    "    def __init__(self,accnum,name,actype,bal):\n",
    "        self.accnum=accnum\n",
    "        self.name=name\n",
    "        self.actype=actype\n",
    "        self.bal=bal\n",
    "   \n",
    "    def deposit(self,accdepo):\n",
    "        print(\"initial bal is:\",self.bal)\n",
    "        self.bal+=accdepo\n",
    "        print(accdepo,\"is successfully deposited\")\n",
    "        print(\"current balance is:\",self.bal)\n",
    "    \n",
    "    def withdraw(self,withamount):\n",
    "        print(\"balance is:\",self.bal)\n",
    "        if  self.bal<withamount:\n",
    "            print(\"insufficient balance\")\n",
    "            print(\"current bal is:\",self.bal)\n",
    "        else:\n",
    "            self.bal-=withamount\n",
    "            print(withamount,\"is withdrawn\")\n",
    "            print(\"current balance is:\",self.bal)\n",
    "\n",
    "    def display_accinfo(self):\n",
    "        print(\"\\n acc information:\")\n",
    "        print(\"\\n account number:\",self.accnum)\n",
    "        print(\"\\n name:\",self.name)\n",
    "        print(\"\\n type of acc:\",self.actype)\n",
    "        print(\"\\n balance is:\",self.bal)\n",
    ":\n",
    "accnum=int(input(\"enter acc num:\"))\n",
    "name=input(\"enter holder name:\")\n",
    "actype=input(\"enter the type(savings/current):\")\n",
    "bal=float(input(\"enter initial balance:\"))\n",
    "        \n",
    "account=bank(accnum, name, actype, bal)\n",
    "\n",
    "while True:\n",
    "        print(\"\\nMENU\")\n",
    "        print(\"1. Deposit Money\")\n",
    "        print(\"2. Withdraw Money\")\n",
    "        print(\"3. Display Account Information\")\n",
    "        print(\"4. Exit\")\n",
    "\n",
    "        opt=int(input(\"enter your option(1-4)\"))\n",
    "        if opt==1:\n",
    "            amt=float(input(\"enter amount to deposit:\"))\n",
    "            account.deposit(amt)\n",
    "        elif opt==2:\n",
    "            withdr=float(input(\"enter amount to withdraw:\"))\n",
    "            account.withdraw(withdr)\n",
    "        elif opt==3:\n",
    "            account.display_accinfo()\n",
    "        elif opt==4:\n",
    "            print(\"thanks for using our services\")\n",
    "            break\n",
    "\n",
    "        else:\n",
    "            print(\"Invalid choice\")\n",
    "        \n",
    "        \n",
    "        \n",
    "        \n",
    "        "
   ]
  },
  {
   "cell_type": "code",
   "execution_count": null,
   "id": "af4e104c-5881-4e19-83c8-cff8c907d2f6",
   "metadata": {},
   "outputs": [],
   "source": []
  }
 ],
 "metadata": {
  "kernelspec": {
   "display_name": "Python 3 (ipykernel)",
   "language": "python",
   "name": "python3"
  },
  "language_info": {
   "codemirror_mode": {
    "name": "ipython",
    "version": 3
   },
   "file_extension": ".py",
   "mimetype": "text/x-python",
   "name": "python",
   "nbconvert_exporter": "python",
   "pygments_lexer": "ipython3",
   "version": "3.11.7"
  }
 },
 "nbformat": 4,
 "nbformat_minor": 5
}
