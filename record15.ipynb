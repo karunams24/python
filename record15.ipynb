{
 "cells": [
  {
   "cell_type": "code",
   "execution_count": 1,
   "id": "b980c864-93d1-4c44-900b-27bac51fad72",
   "metadata": {},
   "outputs": [
    {
     "name": "stdin",
     "output_type": "stream",
     "text": [
      "enter the length of rect 1: 5\n",
      "enter the breadth of rect 1: 8\n",
      "enter the length of rect 2: 8\n",
      "enter the breadth of rect 2: 4\n"
     ]
    },
    {
     "name": "stdout",
     "output_type": "stream",
     "text": [
      "rectangle 1 is greater\n",
      "perimeter of rect 1 is: 26.0\n"
     ]
    }
   ],
   "source": [
    "#Create Rectangle class with attributes length and breadth and\n",
    "#methods to find area and perimeter. Compare two Rectangle\n",
    "#objects by their area.\n",
    "class rectangle:\n",
    "    def rect(self,length,breadth):\n",
    "        self.length=length\n",
    "        self.breadth=breadth\n",
    "    \n",
    "\n",
    "    def area(self):\n",
    "        return self.length*self.breadth\n",
    "\n",
    "    def perimeter(self):\n",
    "        return 2*(self.length+self.breadth)\n",
    "#object\n",
    "r1=rectangle()\n",
    "r2=rectangle()\n",
    "len1=float(input(\"enter the length of rect 1:\"))\n",
    "brd1=float(input(\"enter the breadth of rect 1:\"))\n",
    "len2=float(input(\"enter the length of rect 2:\"))\n",
    "brd2=float(input(\"enter the breadth of rect 2:\"))\n",
    "r1.rect(len1,brd1)\n",
    "r2.rect(len2,brd2)\n",
    "a=r1.area()\n",
    "a2=r2.area()\n",
    "p=r1.perimeter()\n",
    "p2=r2.perimeter()\n",
    "if(a>a2):\n",
    "    print(\"rectangle 1 is greater\")\n",
    "    print(\"perimeter of rect 1 is:\",p)\n",
    "elif(a<a2):\n",
    "    print(\"rectangle 2 is greater\")\n",
    "    print(\"perimeter of rect 2:\",p2)\n",
    "else:\n",
    "    print(\"rectangles are euqal\")\n",
    "    print(\"peri of rect 1:\",p)\n",
    "    print(\"peri of rect 2:\",p2)\n",
    "\n",
    "#object\n",
    "#area=rectangle1\n",
    "#length=float(input(\"enter the length:\"))\n",
    "#breadth=float(input(\"enter the breadth:\"))\n",
    "#area.display()\n",
    "\n",
    "        \n",
    "        "
   ]
  },
  {
   "cell_type": "code",
   "execution_count": null,
   "id": "436b5840-e15a-4228-b3f9-95c6f9cd343e",
   "metadata": {},
   "outputs": [],
   "source": []
  }
 ],
 "metadata": {
  "kernelspec": {
   "display_name": "Python 3 (ipykernel)",
   "language": "python",
   "name": "python3"
  },
  "language_info": {
   "codemirror_mode": {
    "name": "ipython",
    "version": 3
   },
   "file_extension": ".py",
   "mimetype": "text/x-python",
   "name": "python",
   "nbconvert_exporter": "python",
   "pygments_lexer": "ipython3",
   "version": "3.11.7"
  }
 },
 "nbformat": 4,
 "nbformat_minor": 5
}
