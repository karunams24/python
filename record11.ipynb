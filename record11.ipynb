{
 "cells": [
  {
   "cell_type": "code",
   "execution_count": 6,
   "id": "914ba129-6330-4ee2-9aae-ff4efa9288d3",
   "metadata": {},
   "outputs": [
    {
     "name": "stdin",
     "output_type": "stream",
     "text": [
      "enter a string: welcome to the world of the python\n"
     ]
    },
    {
     "name": "stdout",
     "output_type": "stream",
     "text": [
      "the occurences are:\n",
      "welcome : 1\n",
      "to : 1\n",
      "the : 2\n",
      "world : 1\n",
      "of : 1\n",
      "python : 1\n"
     ]
    }
   ],
   "source": [
    "#program to find the occurence of words \n",
    "line=input(\"enter a string:\").split()\n",
    "c={}\n",
    "for i in line:\n",
    "    if i in c:\n",
    "        c[i]+=1\n",
    "    else:\n",
    "        c[i]=1\n",
    "print(\"the occurences are:\")\n",
    "for a in c:\n",
    "    print(a,\":\",c[a])\n"
   ]
  },
  {
   "cell_type": "code",
   "execution_count": 18,
   "id": "2478d882-6b60-47c4-9168-ff8fb4d046df",
   "metadata": {},
   "outputs": [
    {
     "name": "stdin",
     "output_type": "stream",
     "text": [
      "enter the list of integres: 90,100,110\n"
     ]
    },
    {
     "name": "stdout",
     "output_type": "stream",
     "text": [
      "new list is: [90, 100, 'over']\n"
     ]
    }
   ],
   "source": [
    "#program to replace over for integer more than 100\n",
    "listt=list(map(int,input(\"enter the list of integres:\").split(\",\")))\n",
    "c=[]\n",
    "for i in listt:\n",
    "    if i>100:\n",
    "        c.append(\"over\")\n",
    "    else:\n",
    "         c.append(i)\n",
    "print(\"new list is:\",c)\n",
    "\n",
    "    \n",
    " "
   ]
  },
  {
   "cell_type": "code",
   "execution_count": 40,
   "id": "87905b76-b677-4da7-a982-86a8be699060",
   "metadata": {},
   "outputs": [
    {
     "name": "stdin",
     "output_type": "stream",
     "text": [
      "enter the names: karuna,manisha\n"
     ]
    },
    {
     "name": "stdout",
     "output_type": "stream",
     "text": [
      "the occurence of a is: 4\n"
     ]
    }
   ],
   "source": [
    "#program to count the ocuurence of a in names\n",
    "name=list(input(\"enter the names:\").split(\",\"))\n",
    "c=0\n",
    "for i in name:\n",
    "     c += i.lower().count('a')\n",
    "print(\"the occurence of a is:\",c)\n"
   ]
  },
  {
   "cell_type": "code",
   "execution_count": 37,
   "id": "f4e84894-bf78-491c-a250-3cecc9dd3a20",
   "metadata": {},
   "outputs": [
    {
     "name": "stdin",
     "output_type": "stream",
     "text": [
      "enter 1st number: 30\n",
      "enter 2nd number: 45\n"
     ]
    },
    {
     "name": "stdout",
     "output_type": "stream",
     "text": [
      "gcd=\n",
      "15\n"
     ]
    }
   ],
   "source": [
    "#program to find gcd of 2 numbers\n",
    "a=int(input(\"enter 1st number:\"))\n",
    "b=int(input(\"enter 2nd number:\"))\n",
    "print(\"gcd=\")\n",
    "while b!=0:\n",
    "    a,b= b,a%b\n",
    "print(a)"
   ]
  },
  {
   "cell_type": "code",
   "execution_count": 38,
   "id": "954f5cf4-9952-4c95-bf5f-9399cae8b13b",
   "metadata": {},
   "outputs": [
    {
     "name": "stdin",
     "output_type": "stream",
     "text": [
      "enter a list of integres: 2,3,4,5,6\n"
     ]
    },
    {
     "name": "stdout",
     "output_type": "stream",
     "text": [
      "the list of integers are: [2, 3, 4, 5, 6]\n",
      "list without even numbers are: [3, 5]\n"
     ]
    }
   ],
   "source": [
    "#program to create a list removing even numbers\n",
    "number=list(map(int,input(\"enter a list of integres:\").split(\",\")))\n",
    "print(\"the list of integers are:\",number)\n",
    "newlist=[]\n",
    "for num in number:\n",
    "    if num%2!=0:\n",
    "        newlist.append(num)\n",
    "print(\"list without even numbers are:\",newlist)\n",
    "\n"
   ]
  },
  {
   "cell_type": "code",
   "execution_count": 3,
   "id": "9673a314-50b0-4c7d-853a-c4e73adfacdd",
   "metadata": {},
   "outputs": [
    {
     "name": "stdin",
     "output_type": "stream",
     "text": [
      "enter a number: 5\n"
     ]
    },
    {
     "name": "stdout",
     "output_type": "stream",
     "text": [
      "factorial of number 5 is 120\n"
     ]
    }
   ],
   "source": [
    "#program to find the factorial of a number\n",
    "number=int(input(\"enter a number:\"))\n",
    "fact=1\n",
    "for i in range(1,number+1):\n",
    "    fact*=i\n",
    "print(\"factorial of number\",number,\"is\",fact)\n"
   ]
  },
  {
   "cell_type": "code",
   "execution_count": 9,
   "id": "061b5e9c-ac80-4f3f-aff4-fbd4e307d43e",
   "metadata": {},
   "outputs": [
    {
     "name": "stdin",
     "output_type": "stream",
     "text": [
      "enter the term: 5\n"
     ]
    },
    {
     "name": "stdout",
     "output_type": "stream",
     "text": [
      "fibonacci series is:\n",
      "0 1 1 2 3 "
     ]
    }
   ],
   "source": [
    "#program to generate Fibonacci series of N terms\n",
    "n=int(input(\"enter the term:\"))\n",
    "a,b=0,1\n",
    "print(\"fibonacci series is:\")\n",
    "for i in range(n):\n",
    "    print(a,end=\" \")\n",
    "    a,b=b,a+b"
   ]
  },
  {
   "cell_type": "code",
   "execution_count": 13,
   "id": "c39c845d-3241-4739-bcf5-5edd4ab15d18",
   "metadata": {},
   "outputs": [
    {
     "name": "stdin",
     "output_type": "stream",
     "text": [
      "enter a list of numbers: 1 2 3 4 5\n"
     ]
    },
    {
     "name": "stdout",
     "output_type": "stream",
     "text": [
      "the list of integers are: [1, 2, 3, 4, 5]\n",
      "The sum of all items in the list is: 15\n"
     ]
    }
   ],
   "source": [
    "#program to find the sum of all items in a list\n",
    "number=list(map(int,input(\"enter a list of numbers:\").split()))\n",
    "print(\"the list of integers are:\",number)\n",
    "summ= 0\n",
    "for num in number:\n",
    "    summ+= num\n",
    "print(\"The sum of all items in the list is:\",summ)\n"
   ]
  },
  {
   "cell_type": "code",
   "execution_count": 13,
   "id": "7532c261-3f44-495b-9fc9-aa36e6470ac8",
   "metadata": {},
   "outputs": [
    {
     "name": "stdin",
     "output_type": "stream",
     "text": [
      "enter the start of range: 1000\n",
      "enter the end of range: 9999\n"
     ]
    },
    {
     "name": "stdout",
     "output_type": "stream",
     "text": [
      "the perfect square root even numbers are:\n",
      "4624\n",
      "6084\n",
      "6400\n",
      "8464\n"
     ]
    }
   ],
   "source": [
    "#program to Generate a list of four digit numbers and digits are even and the number is a perfect square.\n",
    "import math\n",
    "n=int(input(\"enter the start of range:\"))\n",
    "e=int(input(\"enter the end of range:\"))\n",
    "result=0\n",
    "print(\"the perfect square root even numbers are:\")\n",
    "for num in range(n,e+1):\n",
    "    root=int(math.sqrt(num))\n",
    "    if root*root==num:\n",
    "        for j in str(num):\n",
    "            if int(j)%2!=0:\n",
    "                break\n",
    "        else:\n",
    "            print(num)\n",
    "            result=1\n",
    "if not result:\n",
    "    print(\"no numbers found\")"
   ]
  },
  {
   "cell_type": "code",
   "execution_count": 34,
   "id": "9120eb44-ffd6-4d75-8e4a-75ff875b3fce",
   "metadata": {},
   "outputs": [
    {
     "name": "stdin",
     "output_type": "stream",
     "text": [
      "enter a string: helloworld\n"
     ]
    },
    {
     "name": "stdout",
     "output_type": "stream",
     "text": [
      "the frequencies are:\n",
      "h : 1\n",
      "e : 1\n",
      "l : 3\n",
      "o : 2\n",
      "w : 1\n",
      "r : 1\n",
      "d : 1\n"
     ]
    }
   ],
   "source": [
    "#program to the number of characters (character frequency) in a string.\n",
    "string=input(\"enter a string:\")\n",
    "c={}\n",
    "for ch in string:\n",
    "    if ch in c:\n",
    "        c[ch]+=1\n",
    "    else:\n",
    "        c[ch]=1\n",
    "print(\"the frequencies are:\")\n",
    "for char in c:\n",
    "    print(char,\":\",c[char])\n"
   ]
  },
  {
   "cell_type": "code",
   "execution_count": 35,
   "id": "8f8a82ef-e9d7-4b8b-b9c9-ced6607b549c",
   "metadata": {},
   "outputs": [
    {
     "name": "stdin",
     "output_type": "stream",
     "text": [
      "Enter number of steps:  4\n"
     ]
    },
    {
     "name": "stdout",
     "output_type": "stream",
     "text": [
      "the pyramid is:\n",
      "1\t\n",
      "2\t4\t\n",
      "3\t6\t9\t\n",
      "4\t8\t12\t16\t\n"
     ]
    }
   ],
   "source": [
    "#program to display the given pyramid with step number accepted from user.eg N=4 \n",
    "n = int(input(\"Enter number of steps: \"))\n",
    "print(\"the pyramid is:\")\n",
    "for i in range(1, n + 1):\n",
    "     for j in range(1, i + 1):\n",
    "       print(i * j, end=\"\\t\")\n",
    "     print()\n"
   ]
  },
  {
   "cell_type": "code",
   "execution_count": null,
   "id": "bd7d1831-2320-44fa-aa14-132f8d303988",
   "metadata": {},
   "outputs": [],
   "source": []
  }
 ],
 "metadata": {
  "kernelspec": {
   "display_name": "Python 3 (ipykernel)",
   "language": "python",
   "name": "python3"
  },
  "language_info": {
   "codemirror_mode": {
    "name": "ipython",
    "version": 3
   },
   "file_extension": ".py",
   "mimetype": "text/x-python",
   "name": "python",
   "nbconvert_exporter": "python",
   "pygments_lexer": "ipython3",
   "version": "3.11.7"
  }
 },
 "nbformat": 4,
 "nbformat_minor": 5
}
