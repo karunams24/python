{
 "cells": [
  {
   "cell_type": "code",
   "execution_count": 1,
   "id": "ea112663-96c2-432e-be7f-ab4a661622f3",
   "metadata": {},
   "outputs": [
    {
     "name": "stdin",
     "output_type": "stream",
     "text": [
      "Enter length of rectangle:  4\n",
      "Enter breadth of rectangle:  7\n",
      "Enter radius of circle:  8.5\n"
     ]
    },
    {
     "name": "stdout",
     "output_type": "stream",
     "text": [
      "Rectangle area: 28.0\n",
      "Rectangle perimeter: 56.0\n",
      "Circle area: 226.98006922186258\n",
      "Circle perimeter: 53.40707511102649\n"
     ]
    }
   ],
   "source": [
    "# main1.py\n",
    "\n",
    "import rectangle\n",
    "import circle\n",
    "\n",
    "l = float(input(\"Enter length of rectangle: \"))\n",
    "b = float(input(\"Enter breadth of rectangle: \"))\n",
    "r = float(input(\"Enter radius of circle: \"))\n",
    "\n",
    "print(\"Rectangle area:\", rectangle.area(l, b))\n",
    "print(\"Rectangle perimeter:\", rectangle.perimeter(l, b))\n",
    "\n",
    "print(\"Circle area:\", circle.area(r))\n",
    "print(\"Circle perimeter:\", circle.perimeter(r))\n"
   ]
  },
  {
   "cell_type": "code",
   "execution_count": null,
   "id": "3dfdbf4f-e305-4a45-8f35-e52286551ab5",
   "metadata": {},
   "outputs": [],
   "source": []
  }
 ],
 "metadata": {
  "kernelspec": {
   "display_name": "Python 3 (ipykernel)",
   "language": "python",
   "name": "python3"
  },
  "language_info": {
   "codemirror_mode": {
    "name": "ipython",
    "version": 3
   },
   "file_extension": ".py",
   "mimetype": "text/x-python",
   "name": "python",
   "nbconvert_exporter": "python",
   "pygments_lexer": "ipython3",
   "version": "3.11.7"
  }
 },
 "nbformat": 4,
 "nbformat_minor": 5
}
