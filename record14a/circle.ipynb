{
 "cells": [
  {
   "cell_type": "code",
   "execution_count": 3,
   "id": "8fc946b0-c7e1-4dc1-9596-f655093e5e12",
   "metadata": {},
   "outputs": [],
   "source": [
    "#circle.py\n",
    "import math\n",
    "def area(r):\n",
    "    return math.pi*r*r\n",
    "def perimeter(r):\n",
    "    return math.pi*r*2"
   ]
  },
  {
   "cell_type": "code",
   "execution_count": 4,
   "id": "6161b1c3-f0f7-4333-9ac1-45a751d43d1b",
   "metadata": {},
   "outputs": [
    {
     "name": "stdout",
     "output_type": "stream",
     "text": [
      "[NbConvertApp] Converting notebook circle.ipynb to python\n",
      "[NbConvertApp] Writing 165 bytes to circle.py\n"
     ]
    }
   ],
   "source": [
    "!jupyter nbconvert --to python circle.ipynb"
   ]
  },
  {
   "cell_type": "code",
   "execution_count": null,
   "id": "e6d3784f-4402-4c95-ae6a-0fef339ca4aa",
   "metadata": {},
   "outputs": [],
   "source": []
  }
 ],
 "metadata": {
  "kernelspec": {
   "display_name": "Python 3 (ipykernel)",
   "language": "python",
   "name": "python3"
  },
  "language_info": {
   "codemirror_mode": {
    "name": "ipython",
    "version": 3
   },
   "file_extension": ".py",
   "mimetype": "text/x-python",
   "name": "python",
   "nbconvert_exporter": "python",
   "pygments_lexer": "ipython3",
   "version": "3.11.7"
  }
 },
 "nbformat": 4,
 "nbformat_minor": 5
}
