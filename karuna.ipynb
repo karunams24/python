{
 "cells": [
  {
   "cell_type": "code",
   "execution_count": 1,
   "id": "7167a005-b712-4e84-be88-484dd5060fac",
   "metadata": {},
   "outputs": [
    {
     "name": "stdout",
     "output_type": "stream",
     "text": [
      "Good Morning\n"
     ]
    }
   ],
   "source": [
    "print(\"Good Morning\")\n"
   ]
  },
  {
   "cell_type": "code",
   "execution_count": 7,
   "id": "8f8a8580-e672-45ca-8eb1-c6b1e56a3565",
   "metadata": {},
   "outputs": [
    {
     "name": "stdout",
     "output_type": "stream",
     "text": [
      "Tholoor veedu,\n",
      "Kizhakkupuram po,Kumbazha via,\n",
      "Pathanamthitta,689653\n"
     ]
    }
   ],
   "source": [
    "print(\"Tholoor veedu,\\nKizhakkupuram po,Kumbazha via,\\nPathanamthitta,689653\")"
   ]
  },
  {
   "cell_type": "code",
   "execution_count": 8,
   "id": "a864c586-10cb-46cb-8e3d-5c9c3c755cc3",
   "metadata": {},
   "outputs": [
    {
     "name": "stdout",
     "output_type": "stream",
     "text": [
      "2.5\n"
     ]
    }
   ],
   "source": [
    "print(5/2)"
   ]
  },
  {
   "cell_type": "code",
   "execution_count": 9,
   "id": "2de11331-8248-4a2f-b363-166cc677a9a1",
   "metadata": {},
   "outputs": [
    {
     "name": "stdout",
     "output_type": "stream",
     "text": [
      "2\n"
     ]
    }
   ],
   "source": [
    "print(5//2)"
   ]
  },
  {
   "cell_type": "code",
   "execution_count": 10,
   "id": "17d6097d-f2c0-4798-a609-f8a2e9e3bfcf",
   "metadata": {},
   "outputs": [
    {
     "name": "stdout",
     "output_type": "stream",
     "text": [
      "8\n"
     ]
    }
   ],
   "source": [
    "print(2*2*2)"
   ]
  },
  {
   "cell_type": "code",
   "execution_count": 11,
   "id": "41a68aeb-2ebb-4ccb-99e5-2261ce5c5042",
   "metadata": {},
   "outputs": [
    {
     "name": "stdout",
     "output_type": "stream",
     "text": [
      "8\n"
     ]
    }
   ],
   "source": [
    "print(2**3)"
   ]
  },
  {
   "cell_type": "code",
   "execution_count": 12,
   "id": "e5e398ef-2db2-46cc-b352-532e1492fae9",
   "metadata": {},
   "outputs": [
    {
     "name": "stdout",
     "output_type": "stream",
     "text": [
      "mca students\n"
     ]
    }
   ],
   "source": [
    "print('mca students')"
   ]
  },
  {
   "cell_type": "code",
   "execution_count": 14,
   "id": "35a3d100-d45c-4b0d-b35f-c07ddbdb388e",
   "metadata": {},
   "outputs": [
    {
     "name": "stdout",
     "output_type": "stream",
     "text": [
      "mca's student\n"
     ]
    }
   ],
   "source": [
    "print(\"mca's student\")"
   ]
  },
  {
   "cell_type": "code",
   "execution_count": 23,
   "id": "30fbce14-db39-47c8-ae90-85ccc288c054",
   "metadata": {},
   "outputs": [
    {
     "name": "stdout",
     "output_type": "stream",
     "text": [
      "mca \"student\"\n"
     ]
    }
   ],
   "source": [
    "print('mca \"student\"')"
   ]
  },
  {
   "cell_type": "code",
   "execution_count": 36,
   "id": "a7075c02-fd94-4a59-9d38-89d6c99d8611",
   "metadata": {},
   "outputs": [
    {
     "name": "stdout",
     "output_type": "stream",
     "text": [
      "name= jun\n"
     ]
    }
   ],
   "source": [
    "n=\"arjun\"\n",
    "print(\"name=\",n[2:])"
   ]
  },
  {
   "cell_type": "code",
   "execution_count": null,
   "id": "e91a742a-2e41-4be8-8406-d15bbb8e2137",
   "metadata": {},
   "outputs": [],
   "source": []
  },
  {
   "cell_type": "code",
   "execution_count": null,
   "id": "a4de7237-df95-4478-aad1-51174472ad90",
   "metadata": {},
   "outputs": [],
   "source": []
  }
 ],
 "metadata": {
  "kernelspec": {
   "display_name": "Python 3 (ipykernel)",
   "language": "python",
   "name": "python3"
  },
  "language_info": {
   "codemirror_mode": {
    "name": "ipython",
    "version": 3
   },
   "file_extension": ".py",
   "mimetype": "text/x-python",
   "name": "python",
   "nbconvert_exporter": "python",
   "pygments_lexer": "ipython3",
   "version": "3.11.7"
  }
 },
 "nbformat": 4,
 "nbformat_minor": 5
}
