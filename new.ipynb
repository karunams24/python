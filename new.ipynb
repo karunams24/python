{
 "cells": [
  {
   "cell_type": "code",
   "execution_count": 9,
   "id": "cf4b0578-f464-491b-aa9a-a9332e3cde08",
   "metadata": {},
   "outputs": [
    {
     "name": "stdin",
     "output_type": "stream",
     "text": [
      "Enter the temperature in celsius 35\n"
     ]
    },
    {
     "name": "stdout",
     "output_type": "stream",
     "text": [
      "temp in fahrenheit= 95.0\n"
     ]
    }
   ],
   "source": [
    "#program to convert celsius to fahrenheit\n",
    "temp=float(input(\"Enter the temperature in celsius\"))\n",
    "celcius=temp*9/5+32\n",
    "print(\"temp in fahrenheit=\",celcius)"
   ]
  },
  {
   "cell_type": "code",
   "execution_count": 13,
   "id": "57763d21-5cca-4907-8e7a-6383c096282f",
   "metadata": {},
   "outputs": [
    {
     "name": "stdin",
     "output_type": "stream",
     "text": [
      "ENTER THE DIST: 34\n"
     ]
    },
    {
     "name": "stdout",
     "output_type": "stream",
     "text": [
      "Kilo to Mile= 15000\n"
     ]
    }
   ],
   "source": [
    "#covert kilometer to miles\n",
    "kilo=int(input(\"ENTER THE DIST:\"))\n",
    "mile=kilo*0.62137\n",
    "print(\"Kilo to Mile=\",metre)"
   ]
  },
  {
   "cell_type": "code",
   "execution_count": null,
   "id": "f67fd48f-7401-496f-9054-9718bf7516b8",
   "metadata": {},
   "outputs": [],
   "source": []
  }
 ],
 "metadata": {
  "kernelspec": {
   "display_name": "Python 3 (ipykernel)",
   "language": "python",
   "name": "python3"
  },
  "language_info": {
   "codemirror_mode": {
    "name": "ipython",
    "version": 3
   },
   "file_extension": ".py",
   "mimetype": "text/x-python",
   "name": "python",
   "nbconvert_exporter": "python",
   "pygments_lexer": "ipython3",
   "version": "3.11.7"
  }
 },
 "nbformat": 4,
 "nbformat_minor": 5
}
