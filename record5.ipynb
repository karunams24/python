{
 "cells": [
  {
   "cell_type": "code",
   "execution_count": 5,
   "id": "ebb5bd50-23e6-4a81-99b6-1a7cf692bf27",
   "metadata": {},
   "outputs": [
    {
     "name": "stdin",
     "output_type": "stream",
     "text": [
      "enter the list of colors: green,black,blue\n"
     ]
    },
    {
     "name": "stdout",
     "output_type": "stream",
     "text": [
      "first color: green\n",
      "last color: blue\n"
     ]
    }
   ],
   "source": [
    "#program to read 3 comma seperated colors from the user and display first and last colors\n",
    "color=input(\"enter the list of colors:\")\n",
    "col=color.split(\",\")\n",
    "print(\"first color:\",col[0])\n",
    "print(\"last color:\",col[-1])"
   ]
  },
  {
   "cell_type": "code",
   "execution_count": 9,
   "id": "ae81e98e-5956-4671-80ce-dc4555ec6d5f",
   "metadata": {},
   "outputs": [
    {
     "name": "stdin",
     "output_type": "stream",
     "text": [
      "enter a filename name.py\n"
     ]
    },
    {
     "name": "stdout",
     "output_type": "stream",
     "text": [
      "extension: py\n"
     ]
    }
   ],
   "source": [
    "#program to accept file name from user and print its extension\n",
    "file=input(\"enter a filename\")\n",
    "name=file.split(\".\")\n",
    "print(\"extension:\",name[-1])"
   ]
  },
  {
   "cell_type": "code",
   "execution_count": 4,
   "id": "688346fd-853b-45fc-8434-12797092182a",
   "metadata": {},
   "outputs": [
    {
     "name": "stdin",
     "output_type": "stream",
     "text": [
      "enter a sequence of numbers: 3,5,7,8\n"
     ]
    },
    {
     "name": "stdout",
     "output_type": "stream",
     "text": [
      "[3, 5, 7, 8]\n",
      "sum of all items= 23\n"
     ]
    }
   ],
   "source": [
    "#program to accept sequence of comma seperated numbers and create its list and find teh sum of all the items\n",
    "number=input(\"enter a sequence of numbers:\")\n",
    "sep=list(map(int,number.split(\",\")))\n",
    "print(sep)\n",
    "print(\"sum of all items=\",sum (sep))\n"
   ]
  },
  {
   "cell_type": "code",
   "execution_count": null,
   "id": "7c645349-0908-43e7-8111-b72f2dba59a3",
   "metadata": {},
   "outputs": [],
   "source": []
  }
 ],
 "metadata": {
  "kernelspec": {
   "display_name": "Python 3 (ipykernel)",
   "language": "python",
   "name": "python3"
  },
  "language_info": {
   "codemirror_mode": {
    "name": "ipython",
    "version": 3
   },
   "file_extension": ".py",
   "mimetype": "text/x-python",
   "name": "python",
   "nbconvert_exporter": "python",
   "pygments_lexer": "ipython3",
   "version": "3.11.7"
  }
 },
 "nbformat": 4,
 "nbformat_minor": 5
}
