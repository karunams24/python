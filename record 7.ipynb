{
 "cells": [
  {
   "cell_type": "code",
   "execution_count": 1,
   "id": "31b5302e-61ba-4dcd-8111-d31881e5aaf7",
   "metadata": {},
   "outputs": [
    {
     "name": "stdout",
     "output_type": "stream",
     "text": [
      "even no from 1-25 is: range(2, 25, 2)\n",
      "sum of even no: 156\n"
     ]
    }
   ],
   "source": [
    "#program to print all even numbers from 1 to 25 and find sum\n",
    "r=range(2,25,2)\n",
    "print(\"even no from 1-25 is:\",r)\n",
    "print(\"sum of even no:\",sum(r))\n"
   ]
  },
  {
   "cell_type": "code",
   "execution_count": 2,
   "id": "d50a8600-7298-4b0c-a301-9956d90a54c5",
   "metadata": {},
   "outputs": [
    {
     "name": "stdin",
     "output_type": "stream",
     "text": [
      "enter the range: 10\n"
     ]
    },
    {
     "name": "stdout",
     "output_type": "stream",
     "text": [
      "the reverse order is: [10, 9, 8, 7, 6, 5, 4, 3, 2, 1]\n",
      "sum of reverse order is: 55\n"
     ]
    }
   ],
   "source": [
    "#program to print all in reverse ordr and calculate sum\n",
    "rev=int(input(\"enter the range:\"))\n",
    "print(\"the reverse order is:\",list(range(rev,0,-1)))\n",
    "print(\"sum of reverse order is:\",sum(range(rev,0,-1)))\n",
    "\n"
   ]
  },
  {
   "cell_type": "code",
   "execution_count": null,
   "id": "54be254c-d0fa-4bfe-a92d-0d3be1b8fd95",
   "metadata": {},
   "outputs": [],
   "source": []
  }
 ],
 "metadata": {
  "kernelspec": {
   "display_name": "Python 3 (ipykernel)",
   "language": "python",
   "name": "python3"
  },
  "language_info": {
   "codemirror_mode": {
    "name": "ipython",
    "version": 3
   },
   "file_extension": ".py",
   "mimetype": "text/x-python",
   "name": "python",
   "nbconvert_exporter": "python",
   "pygments_lexer": "ipython3",
   "version": "3.11.7"
  }
 },
 "nbformat": 4,
 "nbformat_minor": 5
}
