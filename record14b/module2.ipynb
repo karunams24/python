{
 "cells": [
  {
   "cell_type": "code",
   "execution_count": 15,
   "id": "1351e42f-1986-410a-984e-6e33c9539a27",
   "metadata": {},
   "outputs": [
    {
     "name": "stdin",
     "output_type": "stream",
     "text": [
      "enter the length: 23\n",
      "enter the breadth: 5\n"
     ]
    },
    {
     "name": "stdout",
     "output_type": "stream",
     "text": [
      "area is: 115.0\n",
      "peri is 56.0\n"
     ]
    },
    {
     "name": "stdin",
     "output_type": "stream",
     "text": [
      "enter the radius: 7.9\n"
     ]
    },
    {
     "name": "stdout",
     "output_type": "stream",
     "text": [
      "area is: 196.066797510539\n",
      "perimeter is: 49.637163926718735\n"
     ]
    },
    {
     "name": "stdin",
     "output_type": "stream",
     "text": [
      "enter the length: 4\n",
      "enter the breadth: 6\n",
      "enter the height: 8\n"
     ]
    },
    {
     "name": "stdout",
     "output_type": "stream",
     "text": [
      "area is: [104.0, 104.0]\n",
      "peri is: 72.0\n"
     ]
    },
    {
     "name": "stdin",
     "output_type": "stream",
     "text": [
      "enter the radius: 9\n"
     ]
    },
    {
     "name": "stdout",
     "output_type": "stream",
     "text": [
      "area is: 113.09733552923255\n",
      "perimeter is: 56.548667764616276\n"
     ]
    }
   ],
   "source": [
    "from graphics import rectangl,circle\n",
    "from graphics.graphics3d import cuboidd,sphere\n",
    "length=float(input(\"enter the length:\"))\n",
    "breadth=float(input(\"enter the breadth:\"))\n",
    "print(\"area is:\",rectangl.area(length,breadth))\n",
    "print(\"peri is\",rectangl.perimeter(length,breadth))\n",
    "r=float(input(\"enter the radius:\"))\n",
    "print(\"area is:\",circle.area(r))\n",
    "print(\"perimeter is:\",circle.perimeter(r))\n",
    "length=float(input(\"enter the length:\"))\n",
    "breadth=float(input(\"enter the breadth:\"))\n",
    "height=float(input(\"enter the height:\"))\n",
    "print(\"area is:\",cuboidd.area(length,breadth,height))\n",
    "print(\"peri is:\",cuboidd.Perimeter(length,breadth,height))\n",
    "r=float(input(\"enter the radius:\"))\n",
    "print(\"area is:\",sphere.area(r))\n",
    "print(\"perimeter is:\",sphere.circumference(r))"
   ]
  },
  {
   "cell_type": "code",
   "execution_count": null,
   "id": "6dd85c2d-893c-499b-a4b8-ef9623d7be56",
   "metadata": {},
   "outputs": [],
   "source": []
  }
 ],
 "metadata": {
  "kernelspec": {
   "display_name": "Python 3 (ipykernel)",
   "language": "python",
   "name": "python3"
  },
  "language_info": {
   "codemirror_mode": {
    "name": "ipython",
    "version": 3
   },
   "file_extension": ".py",
   "mimetype": "text/x-python",
   "name": "python",
   "nbconvert_exporter": "python",
   "pygments_lexer": "ipython3",
   "version": "3.11.7"
  }
 },
 "nbformat": 4,
 "nbformat_minor": 5
}
