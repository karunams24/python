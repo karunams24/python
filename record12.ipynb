{
 "cells": [
  {
   "cell_type": "code",
   "execution_count": 14,
   "id": "1b5640d9-0891-43fb-a8bc-4a40ba684e26",
   "metadata": {},
   "outputs": [
    {
     "name": "stdin",
     "output_type": "stream",
     "text": [
      "enter a list of integers: 1,-2,3,-4\n"
     ]
    },
    {
     "name": "stdout",
     "output_type": "stream",
     "text": [
      "the list of integers are: [1, -2, 3, -4]\n",
      "the positive integers are:\n",
      "1\n",
      "3\n"
     ]
    }
   ],
   "source": [
    "#program of lis of comprehensions\n",
    "#positive list of integers from given list\n",
    "n=list(map(int,input(\"enter a list of integers:\").split(\",\")))\n",
    "print(\"the list of integers are:\",n)\n",
    "print(\"the positive integers are:\")\n",
    "for i in n:\n",
    "    if i>0:\n",
    "        print(i)\n"
   ]
  },
  {
   "cell_type": "code",
   "execution_count": 24,
   "id": "becf2076-586e-46b6-a7e6-131004b10bf8",
   "metadata": {},
   "outputs": [
    {
     "name": "stdin",
     "output_type": "stream",
     "text": [
      "Enter a positive integer: 5\n"
     ]
    },
    {
     "name": "stdout",
     "output_type": "stream",
     "text": [
      "[1, 4, 9, 16, 25]\n"
     ]
    }
   ],
   "source": [
    "#square of N numbers\n",
    "n=int(input(\"Enter a positive integer:\"))\n",
    "squares =[i ** 2 for i in range(1,n+1)]\n",
    "print(squares)"
   ]
  },
  {
   "cell_type": "code",
   "execution_count": 2,
   "id": "2357baae-b00a-4e27-ab3e-8bfb6f0ea9f0",
   "metadata": {},
   "outputs": [
    {
     "name": "stdin",
     "output_type": "stream",
     "text": [
      "enter a word: IcecrEam\n"
     ]
    },
    {
     "name": "stdout",
     "output_type": "stream",
     "text": [
      "The word is: IcecrEam\n",
      "vowels in thE word: ['I', 'e', 'E', 'a']\n"
     ]
    }
   ],
   "source": [
    "#program to form a list of vowels\n",
    "word=input(\"enter a word:\")\n",
    "print(\"The word is:\",word)\n",
    "newlist=[ch for ch in word if ch in\"aeiou AEIOU\"]\n",
    "print(\"vowels in thE word:\",newlist)"
   ]
  },
  {
   "cell_type": "code",
   "execution_count": 4,
   "id": "1aafa720-9ad9-4db0-8e2f-4b9f82877e9b",
   "metadata": {},
   "outputs": [
    {
     "name": "stdin",
     "output_type": "stream",
     "text": [
      "enter the word: pardon\n"
     ]
    },
    {
     "name": "stdout",
     "output_type": "stream",
     "text": [
      "ordinal values of word: [112, 97, 114, 100, 111, 110]\n"
     ]
    }
   ],
   "source": [
    "#list of ordinal values of each element using ord()\n",
    "word=input(\"enter the word:\")\n",
    "new=[ord(ch) for ch in word]\n",
    "print(\"ordinal values of word:\",new)"
   ]
  },
  {
   "cell_type": "code",
   "execution_count": null,
   "id": "da3554e1-fab0-4232-8276-ca8cfb5e8b23",
   "metadata": {},
   "outputs": [],
   "source": []
  }
 ],
 "metadata": {
  "kernelspec": {
   "display_name": "Python 3 (ipykernel)",
   "language": "python",
   "name": "python3"
  },
  "language_info": {
   "codemirror_mode": {
    "name": "ipython",
    "version": 3
   },
   "file_extension": ".py",
   "mimetype": "text/x-python",
   "name": "python",
   "nbconvert_exporter": "python",
   "pygments_lexer": "ipython3",
   "version": "3.11.7"
  }
 },
 "nbformat": 4,
 "nbformat_minor": 5
}
