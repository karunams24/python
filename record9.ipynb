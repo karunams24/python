{
 "cells": [
  {
   "cell_type": "code",
   "execution_count": 8,
   "id": "48a903a8-e540-4d52-abb3-4f6d471a6508",
   "metadata": {},
   "outputs": [
    {
     "name": "stdin",
     "output_type": "stream",
     "text": [
      "enter the name of 5 students(comma seperated): amitha,dhrisya,ihsan,karuna,manisha\n",
      "enter their roll.nos(comma seperated): 1,2,3,4,5\n"
     ]
    },
    {
     "name": "stdout",
     "output_type": "stream",
     "text": [
      "ascending order: {'1': 'amitha', '2': 'dhrisya', '3': 'ihsan', '4': 'karuna', '5': 'manisha'}\n",
      "descending order: {'5': 'manisha', '4': 'karuna', '3': 'ihsan', '2': 'dhrisya', '1': 'amitha'}\n"
     ]
    }
   ],
   "source": [
    "#program to accept 5 stu name and roll no and sort it using sort\n",
    "value=input(\"enter the name of 5 students(comma seperated):\").split(',')\n",
    "key=(input(\"enter their roll.nos(comma seperated):\")).split(',')\n",
    "students=dict(zip(key,value))\n",
    "print(\"ascending order:\",dict(sorted(students.items())))\n",
    "print(\"descending order:\",dict(sorted(students.items(),reverse=-1)))"
   ]
  },
  {
   "cell_type": "code",
   "execution_count": 3,
   "id": "539a2660-8fa7-421d-a2ef-ca60ab8507b5",
   "metadata": {},
   "outputs": [
    {
     "name": "stdin",
     "output_type": "stream",
     "text": [
      "enter the name of 3 students(comma seperated): karuna,niya,dhrisya\n",
      "enter their roll.nos(comma seperated): 1,2,3\n",
      "enter the name of 2 students(comma seperated): punnya,shaikka\n",
      "enter their roll.nos(comma seperated): 5,6\n"
     ]
    },
    {
     "name": "stdout",
     "output_type": "stream",
     "text": [
      "first dict= {'1': 'karuna', '2': 'niya', '3': 'dhrisya'}\n",
      "second dict= {'5': 'punnya', '6': 'shaikka'}\n",
      "merged dict: {'1': 'karuna', '2': 'niya', '3': 'dhrisya', '5': 'punnya', '6': 'shaikka'}\n"
     ]
    }
   ],
   "source": [
    "#program to accept 2 dicts with name and rolls of stud and merge them\n",
    "value=input(\"enter the name of 3 students(comma seperated):\").split(',')\n",
    "key=(input(\"enter their roll.nos(comma seperated):\")).split(',')\n",
    "dict1=dict(zip(key,value))\n",
    "value=input(\"enter the name of 2 students(comma seperated):\").split(',')\n",
    "key=(input(\"enter their roll.nos(comma seperated):\")).split(',')\n",
    "dict2=dict(zip(key,value))\n",
    "print(\"first dict=\",dict1)\n",
    "print(\"second dict=\",dict2)\n",
    "dict1.update(dict2)\n",
    "merged=dict1\n",
    "print(\"merged dict:\",merged)"
   ]
  },
  {
   "cell_type": "code",
   "execution_count": null,
   "id": "da42d6fb-f152-495c-a482-e82b6fc17440",
   "metadata": {},
   "outputs": [],
   "source": []
  }
 ],
 "metadata": {
  "kernelspec": {
   "display_name": "Python 3 (ipykernel)",
   "language": "python",
   "name": "python3"
  },
  "language_info": {
   "codemirror_mode": {
    "name": "ipython",
    "version": 3
   },
   "file_extension": ".py",
   "mimetype": "text/x-python",
   "name": "python",
   "nbconvert_exporter": "python",
   "pygments_lexer": "ipython3",
   "version": "3.11.7"
  }
 },
 "nbformat": 4,
 "nbformat_minor": 5
}
