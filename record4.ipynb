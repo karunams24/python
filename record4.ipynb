{
 "cells": [
  {
   "cell_type": "code",
   "execution_count": 16,
   "id": "b6b0e186-620c-4d16-be2c-c1bf4c9d8aee",
   "metadata": {},
   "outputs": [
    {
     "name": "stdout",
     "output_type": "stream",
     "text": [
      "brogramming\n",
      "Brogramming\n"
     ]
    }
   ],
   "source": []
  },
  {
   "cell_type": "code",
   "execution_count": 2,
   "id": "07b74464-ab1d-41e1-94a9-f592482320e0",
   "metadata": {},
   "outputs": [
    {
     "name": "stdin",
     "output_type": "stream",
     "text": [
      "enter the string: python\n"
     ]
    },
    {
     "name": "stdout",
     "output_type": "stream",
     "text": [
      "converted string is: nythop\n"
     ]
    }
   ],
   "source": [
    "#program to exchange first and last characters of a string\n",
    "n=input(\"enter the string:\")\n",
    "a=n[0:1]\n",
    "b=n[-1:]\n",
    "c=n[1:-1]\n",
    "print(\"converted string is:\",b+c+a)\n",
    "\n"
   ]
  },
  {
   "cell_type": "code",
   "execution_count": 33,
   "id": "d2d7c137-922c-4deb-848b-961c804806e6",
   "metadata": {},
   "outputs": [
    {
     "name": "stdin",
     "output_type": "stream",
     "text": [
      "enter the string: python\n"
     ]
    },
    {
     "name": "stdout",
     "output_type": "stream",
     "text": [
      "exchanged string= nythop\n"
     ]
    }
   ],
   "source": [
    "#program to exchange first and last characters of a string\n",
    "n=input(\"enter the string:\")\n",
    "a=n[0]\n",
    "b=n[5]\n",
    "c=n[1:5]\n",
    "print(\"exchanged string=\",b+c+a)\n"
   ]
  },
  {
   "cell_type": "code",
   "execution_count": 34,
   "id": "60804943-aeeb-4d64-b4a9-d5dddcf8e3f1",
   "metadata": {},
   "outputs": [
    {
     "name": "stdin",
     "output_type": "stream",
     "text": [
      "enter a string: python\n"
     ]
    },
    {
     "name": "stdout",
     "output_type": "stream",
     "text": [
      "new string= pyon\n"
     ]
    }
   ],
   "source": [
    "#program to get string with first 2 and last 2 char from a given string\n",
    "n=(input(\"enter a string:\"))\n",
    "a=n[0:2]\n",
    "b=n[-2:]\n",
    "print(\"new string=\",a+b)"
   ]
  },
  {
   "cell_type": "code",
   "execution_count": 1,
   "id": "9d375179-f8f3-48d4-8bfd-420b55f32986",
   "metadata": {},
   "outputs": [
    {
     "name": "stdin",
     "output_type": "stream",
     "text": [
      "enter first string: python\n",
      "enter the second string: programming\n"
     ]
    },
    {
     "name": "stdout",
     "output_type": "stream",
     "text": [
      "sinle string by swapping first 2 characters of two different string and seperatd by a space is: prthon pyogramming\n"
     ]
    }
   ],
   "source": [
    "#program to get single string from 2 given strings\n",
    "n=(input(\"enter first string:\"))\n",
    "m=(input(\"enter the second string:\"))\n",
    "b=n[0:2]\n",
    "c=n[2:]\n",
    "y=m[0:2]\n",
    "z=m[2:]\n",
    "string=y+c+\" \"+b+z\n",
    "print(\"sinle string by swapping first 2 characters of two different string and seperatd by a space is:\",string)"
   ]
  },
  {
   "cell_type": "code",
   "execution_count": 2,
   "id": "df99de1a-75b0-4279-a44f-7f1700316e42",
   "metadata": {},
   "outputs": [
    {
     "name": "stdin",
     "output_type": "stream",
     "text": [
      "enter a string: amitha\n"
     ]
    },
    {
     "name": "stdout",
     "output_type": "stream",
     "text": [
      "replaced string is: amith$\n"
     ]
    }
   ],
   "source": [
    "#program to conver a string's first character to $\n",
    "n=input(\"enter a string:\")\n",
    "o=n[0]\n",
    "n=n.replace(o,\"$\")\n",
    "print(\"replaced string is:\",o+n[1:])"
   ]
  },
  {
   "cell_type": "code",
   "execution_count": null,
   "id": "5e6f6ec1-6dcd-438e-b1dc-8d7e092ecf2b",
   "metadata": {},
   "outputs": [],
   "source": []
  }
 ],
 "metadata": {
  "kernelspec": {
   "display_name": "Python 3 (ipykernel)",
   "language": "python",
   "name": "python3"
  },
  "language_info": {
   "codemirror_mode": {
    "name": "ipython",
    "version": 3
   },
   "file_extension": ".py",
   "mimetype": "text/x-python",
   "name": "python",
   "nbconvert_exporter": "python",
   "pygments_lexer": "ipython3",
   "version": "3.11.7"
  }
 },
 "nbformat": 4,
 "nbformat_minor": 5
}
