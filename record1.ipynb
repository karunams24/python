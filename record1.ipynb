{
 "cells": [
  {
   "cell_type": "code",
   "execution_count": 12,
   "id": "728c02b7-91e5-4d24-99cc-f611cc681144",
   "metadata": {},
   "outputs": [
    {
     "name": "stdin",
     "output_type": "stream",
     "text": [
      "Enter a number: 5\n"
     ]
    },
    {
     "name": "stdout",
     "output_type": "stream",
     "text": [
      "5 + 55 + 55 = 615\n"
     ]
    }
   ],
   "source": [
    "#program to accept an integer and compute value as n+nn+nnn\n",
    "n=int(input(\"Enter a number:\"))\n",
    "nn=num*10+n\n",
    "nnn=n*100+nn*10+nnn\n",
    "value=(num+numnum+numnumnum)\n",
    "print(n,\"+\" ,nn, \"+\", nn,\"=\",value)"
   ]
  },
  {
   "cell_type": "code",
   "execution_count": 18,
   "id": "871ec173-a71e-40d8-905f-d1588fbb2718",
   "metadata": {},
   "outputs": [
    {
     "name": "stdin",
     "output_type": "stream",
     "text": [
      "enter the radius: 7\n"
     ]
    },
    {
     "name": "stdout",
     "output_type": "stream",
     "text": [
      "area of circle= 153.94\n"
     ]
    }
   ],
   "source": [
    "#program to input radius of the circle and find its area\n",
    "import math\n",
    "r=float(input(\"enter the radius:\"))\n",
    "area=math.pi*r*r\n",
    "print(\"area of circle=\",round(area,2))"
   ]
  },
  {
   "cell_type": "code",
   "execution_count": null,
   "id": "acd7cd16-d4de-41a0-8e85-a1542c89c33f",
   "metadata": {},
   "outputs": [],
   "source": []
  }
 ],
 "metadata": {
  "kernelspec": {
   "display_name": "Python 3 (ipykernel)",
   "language": "python",
   "name": "python3"
  },
  "language_info": {
   "codemirror_mode": {
    "name": "ipython",
    "version": 3
   },
   "file_extension": ".py",
   "mimetype": "text/x-python",
   "name": "python",
   "nbconvert_exporter": "python",
   "pygments_lexer": "ipython3",
   "version": "3.11.7"
  }
 },
 "nbformat": 4,
 "nbformat_minor": 5
}
