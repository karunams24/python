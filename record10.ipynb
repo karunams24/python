{
 "cells": [
  {
   "cell_type": "code",
   "execution_count": 3,
   "id": "72fa8795-8324-4244-aac9-80374d333695",
   "metadata": {},
   "outputs": [
    {
     "name": "stdin",
     "output_type": "stream",
     "text": [
      "enter list1 numbers: 1 3 5 7 9\n",
      "enter list2 numbers: 1 5 2 7 9\n"
     ]
    },
    {
     "name": "stdout",
     "output_type": "stream",
     "text": [
      "list1: [1, 3, 5, 7, 9]\n",
      "list2: [1, 5, 2, 7, 9]\n",
      "lists have same length\n",
      "lists sums are different\n",
      "common values: {1, 5, 9, 7}\n"
     ]
    }
   ],
   "source": [
    "#program to find length and common values of 2 lists\n",
    "a=list(map(int,input(\"enter list1 numbers:\").split()))\n",
    "b=list(map(int,input(\"enter list2 numbers:\").split()))\n",
    "print(\"list1:\",a)\n",
    "print(\"list2:\",b)\n",
    "if len(a)==len(b):\n",
    "    print(\"lists have same length\")\n",
    "else:\n",
    "    print(\"lists have different lengths\")\n",
    "if sum(a)==sum(b):\n",
    "    print(\"lists sum are same\")\n",
    "else:\n",
    "    print(\"lists sums are different\")\n",
    "common=set(a)&set(b)\n",
    "if common:\n",
    "    print(\"common values:\",common)\n",
    "else:\n",
    "    print(\"no common values\")\n"
   ]
  },
  {
   "cell_type": "code",
   "execution_count": 8,
   "id": "f6f4c922-b784-46b7-b772-15b10bb76a1d",
   "metadata": {},
   "outputs": [
    {
     "name": "stdin",
     "output_type": "stream",
     "text": [
      "enter a string: talking\n"
     ]
    },
    {
     "name": "stdout",
     "output_type": "stream",
     "text": [
      "new string: talkingly\n"
     ]
    }
   ],
   "source": [
    "#program to add ing or ly to a string\n",
    "a=input(\"enter a string:\")\n",
    "if a.endswith(\"ing\"):\n",
    "    a+=\"ly\"\n",
    "else:\n",
    "    a+=\"ing\"\n",
    "print(\"new string:\",a)\n"
   ]
  },
  {
   "cell_type": "code",
   "execution_count": null,
   "id": "b371be6b-5294-4b2f-a59b-9c02452b17c4",
   "metadata": {},
   "outputs": [],
   "source": []
  }
 ],
 "metadata": {
  "kernelspec": {
   "display_name": "Python 3 (ipykernel)",
   "language": "python",
   "name": "python3"
  },
  "language_info": {
   "codemirror_mode": {
    "name": "ipython",
    "version": 3
   },
   "file_extension": ".py",
   "mimetype": "text/x-python",
   "name": "python",
   "nbconvert_exporter": "python",
   "pygments_lexer": "ipython3",
   "version": "3.11.7"
  }
 },
 "nbformat": 4,
 "nbformat_minor": 5
}
