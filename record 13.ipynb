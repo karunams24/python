{
 "cells": [
  {
   "cell_type": "code",
   "execution_count": 1,
   "id": "c4a18f01-48d1-46b7-a253-f4786028c336",
   "metadata": {},
   "outputs": [
    {
     "name": "stdin",
     "output_type": "stream",
     "text": [
      "enter the list of words: python java html css\n"
     ]
    },
    {
     "name": "stdout",
     "output_type": "stream",
     "text": [
      "the word is: ['python', 'java', 'html', 'css']\n",
      "the longest word is: 6\n"
     ]
    }
   ],
   "source": [
    "# Accept a list of words and return length of longest word.\n",
    "def long(words):\n",
    "    return max(len(word)for word in words)\n",
    "words=list(input(\"enter the list of words:\").split())\n",
    "print(\"the word is:\",words)\n",
    "print(\"the longest word is:\",long(words))\n",
    "\n"
   ]
  },
  {
   "cell_type": "code",
   "execution_count": 14,
   "id": "4c40c302-3975-49a9-ac6b-ed6657915551",
   "metadata": {},
   "outputs": [
    {
     "name": "stdin",
     "output_type": "stream",
     "text": [
      "enter the number of longest row: 6\n"
     ]
    },
    {
     "name": "stdout",
     "output_type": "stream",
     "text": [
      "* \n",
      "* * \n",
      "* * * \n",
      "* * * * \n",
      "* * * * * \n",
      "* * * * * * \n",
      "* * * * * \n",
      "* * * * \n",
      "* * * \n",
      "* * \n",
      "* \n",
      "None\n"
     ]
    }
   ],
   "source": [
    "#nested loop to print pattern\n",
    "n=int(input(\"enter the number of longest row:\"))\n",
    "def pattern(n):\n",
    "    for i in range(1,n+1):\n",
    "        for j in range(i):\n",
    "            print(\"*\",end=\" \")\n",
    "        print()\n",
    "    for i in range(n-1,0,-1):\n",
    "        for j in range(i):\n",
    "            print(\"*\",end=\" \")\n",
    "        print()\n",
    "print(pattern(n))\n",
    "            \n",
    "        \n",
    "    "
   ]
  },
  {
   "cell_type": "code",
   "execution_count": 10,
   "id": "033531df-94ae-479d-897c-c91f974b2706",
   "metadata": {},
   "outputs": [
    {
     "name": "stdin",
     "output_type": "stream",
     "text": [
      "enter the number: 4\n"
     ]
    },
    {
     "name": "stdout",
     "output_type": "stream",
     "text": [
      "the factors are: [1, 2, 4]\n"
     ]
    }
   ],
   "source": [
    "#Generate all factors of a number\n",
    "number=int(input(\"enter the number:\"))\n",
    "def factt(number):\n",
    "    return[i for i in range(1,number+1)if number%i==0]\n",
    "print(\"the factors are:\",factt(number))\n",
    "  \n",
    "        "
   ]
  },
  {
   "cell_type": "code",
   "execution_count": 8,
   "id": "b6b2daeb-b83d-43d2-8fba-173c3c37756f",
   "metadata": {},
   "outputs": [
    {
     "name": "stdin",
     "output_type": "stream",
     "text": [
      "enter the side of square: 4\n"
     ]
    },
    {
     "name": "stdout",
     "output_type": "stream",
     "text": [
      "area of square: 16\n"
     ]
    },
    {
     "name": "stdin",
     "output_type": "stream",
     "text": [
      "enter the value for length: 5\n",
      "enter the value forbreadth: 9\n"
     ]
    },
    {
     "name": "stdout",
     "output_type": "stream",
     "text": [
      "area of rectangle: 45.0\n"
     ]
    },
    {
     "name": "stdin",
     "output_type": "stream",
     "text": [
      "enter the base of base: 2\n",
      "enter the value for height: 3\n"
     ]
    },
    {
     "name": "stdout",
     "output_type": "stream",
     "text": [
      "area of triangle: 3.0\n"
     ]
    }
   ],
   "source": [
    "#lambda functions for area of square,rectangle and triangle\n",
    "area_ofsquare=lambda s:s*s\n",
    "area_ofrectangle=lambda l,br:l*br\n",
    "area_oftriangle=lambda b,h:0.5*b*h\n",
    "s=int(input(\"enter the side of square:\"))\n",
    "print(\"area of square:\",area_ofsquare(s))\n",
    "l=float(input(\"enter the value for length:\"))\n",
    "br=float(input(\"enter the value forbreadth:\"))\n",
    "print(\"area of rectangle:\",area_ofrectangle(l,br))\n",
    "b=float(input(\"enter the base of base:\"))\n",
    "h=float(input(\"enter the value for height:\"))\n",
    "print(\"area of triangle:\",area_oftriangle(b,h))\n",
    "\n"
   ]
  },
  {
   "cell_type": "code",
   "execution_count": null,
   "id": "693355f8-2c90-4a63-9483-c39ea3cfef39",
   "metadata": {},
   "outputs": [],
   "source": []
  }
 ],
 "metadata": {
  "kernelspec": {
   "display_name": "Python 3 (ipykernel)",
   "language": "python",
   "name": "python3"
  },
  "language_info": {
   "codemirror_mode": {
    "name": "ipython",
    "version": 3
   },
   "file_extension": ".py",
   "mimetype": "text/x-python",
   "name": "python",
   "nbconvert_exporter": "python",
   "pygments_lexer": "ipython3",
   "version": "3.11.7"
  }
 },
 "nbformat": 4,
 "nbformat_minor": 5
}
