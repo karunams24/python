{
 "cells": [
  {
   "cell_type": "code",
   "execution_count": 10,
   "id": "8fca2da8-2955-47db-878a-fbad88bec809",
   "metadata": {},
   "outputs": [
    {
     "name": "stdin",
     "output_type": "stream",
     "text": [
      "enter the 1st set of colors: blue,black,green\n",
      "enter the 2nd set of colors: white,pink,yellow\n"
     ]
    },
    {
     "name": "stdout",
     "output_type": "stream",
     "text": [
      "the 1st sequence of colors are: {'black', 'green', 'blue'}\n",
      "the 2nd sequence of colors are: {'yellow', 'white', 'pink'}\n",
      "the colors not in set 2 are: {'black', 'green', 'blue'}\n"
     ]
    }
   ],
   "source": [
    "#program to display colors in s1 not in s2\n",
    "s1=input(\"enter the 1st set of colors:\")\n",
    "s2=input(\"enter the 2nd set of colors:\")\n",
    "set1=set(s1.split(','))\n",
    "set2=set(s2.split(','))\n",
    "s3=set1-set2\n",
    "print(\"the 1st sequence of colors are:\",set1)\n",
    "print(\"the 2nd sequence of colors are:\",set2)\n",
    "print(\"the colors not in set 2 are:\",s3)\n"
   ]
  },
  {
   "cell_type": "code",
   "execution_count": 11,
   "id": "4746ca9a-e5ee-4035-910d-07347772ae8a",
   "metadata": {},
   "outputs": [
    {
     "name": "stdin",
     "output_type": "stream",
     "text": [
      "enter the s1 colors: blue,maroon,red\n",
      "enter the s2 colors: pink,red,yellow\n"
     ]
    },
    {
     "name": "stdout",
     "output_type": "stream",
     "text": [
      "the first set of colors are: {'maroon', 'blue', 'red'}\n",
      "the second set of colors are: {'yellow', 'red', 'pink'}\n",
      "all colors from s1&s2 are: {'pink', 'blue', 'yellow', 'maroon', 'red'}\n"
     ]
    }
   ],
   "source": [
    "#program to display all colors from s1 and s2\n",
    "set1=set(input(\"enter the s1 colors:\").split(','))\n",
    "set2=set(input(\"enter the s2 colors:\").split(','))\n",
    "set3=set1|set2\n",
    "print(\"the first set of colors are:\",set1)\n",
    "print(\"the second set of colors are:\",set2)\n",
    "print(\"all colors from s1&s2 are:\",set3)\n"
   ]
  },
  {
   "cell_type": "code",
   "execution_count": null,
   "id": "399d3f26-69c1-495c-87c9-06d327ec9336",
   "metadata": {},
   "outputs": [],
   "source": []
  }
 ],
 "metadata": {
  "kernelspec": {
   "display_name": "Python 3 (ipykernel)",
   "language": "python",
   "name": "python3"
  },
  "language_info": {
   "codemirror_mode": {
    "name": "ipython",
    "version": 3
   },
   "file_extension": ".py",
   "mimetype": "text/x-python",
   "name": "python",
   "nbconvert_exporter": "python",
   "pygments_lexer": "ipython3",
   "version": "3.11.7"
  }
 },
 "nbformat": 4,
 "nbformat_minor": 5
}
